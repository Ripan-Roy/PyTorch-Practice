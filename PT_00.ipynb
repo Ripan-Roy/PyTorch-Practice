{
  "nbformat": 4,
  "nbformat_minor": 0,
  "metadata": {
    "colab": {
      "provenance": [],
      "authorship_tag": "ABX9TyPbXw1ZEDQItOGKEahiwPGt"
    },
    "kernelspec": {
      "name": "python3",
      "display_name": "Python 3"
    },
    "language_info": {
      "name": "python"
    }
  },
  "cells": [
    {
      "cell_type": "code",
      "execution_count": 27,
      "metadata": {
        "id": "rhoF1JU48MXO"
      },
      "outputs": [],
      "source": [
        "import torch\n",
        "device = \"cuda\" if torch.cuda.is_available() else \"cpu\""
      ]
    },
    {
      "cell_type": "code",
      "source": [
        "tensor = torch.rand(7,7).to(device)"
      ],
      "metadata": {
        "id": "b01QXvdR8U1Y"
      },
      "execution_count": 28,
      "outputs": []
    },
    {
      "cell_type": "code",
      "source": [
        "tensor"
      ],
      "metadata": {
        "colab": {
          "base_uri": "https://localhost:8080/"
        },
        "id": "k1mlZ6oF8Y3I",
        "outputId": "3afe14d9-f248-4480-d9c0-248368400d44"
      },
      "execution_count": 29,
      "outputs": [
        {
          "output_type": "execute_result",
          "data": {
            "text/plain": [
              "tensor([[0.1952, 0.0050, 0.3068, 0.1165, 0.9103, 0.6440, 0.7071],\n",
              "        [0.6581, 0.4913, 0.8913, 0.1447, 0.5315, 0.1587, 0.6542],\n",
              "        [0.3278, 0.6532, 0.3958, 0.9147, 0.2036, 0.2018, 0.2018],\n",
              "        [0.9497, 0.6666, 0.9811, 0.0874, 0.0041, 0.1088, 0.1637],\n",
              "        [0.7025, 0.6790, 0.9155, 0.2418, 0.1591, 0.7653, 0.2979],\n",
              "        [0.8035, 0.3813, 0.7860, 0.1115, 0.2477, 0.6524, 0.6057],\n",
              "        [0.3725, 0.7980, 0.8399, 0.1374, 0.2331, 0.9578, 0.3313]])"
            ]
          },
          "metadata": {},
          "execution_count": 29
        }
      ]
    },
    {
      "cell_type": "code",
      "source": [
        "tensor2 = torch.rand(1, 7).to(device)\n",
        "tensor2 = tensor2.T\n"
      ],
      "metadata": {
        "id": "0cRmK8T68Z3X"
      },
      "execution_count": 30,
      "outputs": []
    },
    {
      "cell_type": "code",
      "source": [
        "torch.matmul(tensor , tensor2)"
      ],
      "metadata": {
        "colab": {
          "base_uri": "https://localhost:8080/"
        },
        "id": "S-tDzRNw8l0A",
        "outputId": "6b6a9dbd-12fb-408b-c6cd-10799b5bfe45"
      },
      "execution_count": 31,
      "outputs": [
        {
          "output_type": "execute_result",
          "data": {
            "text/plain": [
              "tensor([[1.0466],\n",
              "        [1.0884],\n",
              "        [0.9919],\n",
              "        [0.6820],\n",
              "        [0.9108],\n",
              "        [1.0100],\n",
              "        [0.8004]])"
            ]
          },
          "metadata": {},
          "execution_count": 31
        }
      ]
    },
    {
      "cell_type": "code",
      "source": [
        "x = 1234\n",
        "torch.manual_seed(x)"
      ],
      "metadata": {
        "colab": {
          "base_uri": "https://localhost:8080/"
        },
        "id": "fMLpU82o8sqf",
        "outputId": "a22b1aaf-6c11-4990-d542-52f94441cf14"
      },
      "execution_count": 33,
      "outputs": [
        {
          "output_type": "execute_result",
          "data": {
            "text/plain": [
              "<torch._C.Generator at 0x7c26903b56b0>"
            ]
          },
          "metadata": {},
          "execution_count": 33
        }
      ]
    },
    {
      "cell_type": "code",
      "source": [
        "t1 = torch.rand(2, 3)\n",
        "torch.manual_seed(x)\n",
        "t2 = torch.rand(2, 3)"
      ],
      "metadata": {
        "id": "h2MbOnnZ9QhX"
      },
      "execution_count": 34,
      "outputs": []
    },
    {
      "cell_type": "code",
      "source": [
        "t1, t2"
      ],
      "metadata": {
        "colab": {
          "base_uri": "https://localhost:8080/"
        },
        "id": "3EWraNq7-Mqw",
        "outputId": "987877a4-4219-4d07-b02e-235622917cb4"
      },
      "execution_count": 35,
      "outputs": [
        {
          "output_type": "execute_result",
          "data": {
            "text/plain": [
              "(tensor([[0.0290, 0.4019, 0.2598],\n",
              "         [0.3666, 0.0583, 0.7006]]),\n",
              " tensor([[0.0290, 0.4019, 0.2598],\n",
              "         [0.3666, 0.0583, 0.7006]]))"
            ]
          },
          "metadata": {},
          "execution_count": 35
        }
      ]
    },
    {
      "cell_type": "code",
      "source": [
        "res = torch.matmul(t1, t2.T)"
      ],
      "metadata": {
        "id": "jqGBEhHQ-OA-"
      },
      "execution_count": 36,
      "outputs": []
    },
    {
      "cell_type": "code",
      "source": [
        "res"
      ],
      "metadata": {
        "colab": {
          "base_uri": "https://localhost:8080/"
        },
        "id": "DQRS2SOc-WPv",
        "outputId": "26dc47cb-02c7-4053-9038-a54e9f1e1c76"
      },
      "execution_count": 37,
      "outputs": [
        {
          "output_type": "execute_result",
          "data": {
            "text/plain": [
              "tensor([[0.2299, 0.2161],\n",
              "        [0.2161, 0.6287]])"
            ]
          },
          "metadata": {},
          "execution_count": 37
        }
      ]
    },
    {
      "cell_type": "code",
      "source": [
        "torch.min(res), torch.max(res)"
      ],
      "metadata": {
        "colab": {
          "base_uri": "https://localhost:8080/"
        },
        "id": "joEBlJgR-XUX",
        "outputId": "b3045516-418f-400f-a2f1-e85272747696"
      },
      "execution_count": 39,
      "outputs": [
        {
          "output_type": "execute_result",
          "data": {
            "text/plain": [
              "(tensor(0.2161), tensor(0.6287))"
            ]
          },
          "metadata": {},
          "execution_count": 39
        }
      ]
    },
    {
      "cell_type": "code",
      "source": [
        "torch.argmax(res), torch.argmin(res)"
      ],
      "metadata": {
        "colab": {
          "base_uri": "https://localhost:8080/"
        },
        "id": "KNoLtQgs_Ddf",
        "outputId": "a652f4bc-b8bd-44de-dd7b-e8754d5b5cea"
      },
      "execution_count": 40,
      "outputs": [
        {
          "output_type": "execute_result",
          "data": {
            "text/plain": [
              "(tensor(3), tensor(1))"
            ]
          },
          "metadata": {},
          "execution_count": 40
        }
      ]
    },
    {
      "cell_type": "code",
      "source": [
        "t3 = torch.rand([1, 1, 1, 10], dtype=torch.float64)\n",
        "t4 = t3.squeeze()"
      ],
      "metadata": {
        "id": "8RkmUbkD_I0-"
      },
      "execution_count": 53,
      "outputs": []
    },
    {
      "cell_type": "code",
      "source": [
        "t3.shape, t4.shape"
      ],
      "metadata": {
        "colab": {
          "base_uri": "https://localhost:8080/"
        },
        "id": "q5elEjXp_xZG",
        "outputId": "30510224-2f86-423f-caf4-3b22010ef0ed"
      },
      "execution_count": 55,
      "outputs": [
        {
          "output_type": "execute_result",
          "data": {
            "text/plain": [
              "(torch.Size([1, 1, 1, 10]), torch.Size([10]))"
            ]
          },
          "metadata": {},
          "execution_count": 55
        }
      ]
    },
    {
      "cell_type": "code",
      "source": [],
      "metadata": {
        "id": "oTPlQZEJ_yYV"
      },
      "execution_count": null,
      "outputs": []
    }
  ]
}